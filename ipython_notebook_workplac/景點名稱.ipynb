{
 "cells": [
  {
   "cell_type": "code",
   "execution_count": 1,
   "metadata": {
    "scrolled": false
   },
   "outputs": [
    {
     "name": "stdout",
     "output_type": "stream",
     "text": [
      "洪荒峽\n",
      "雲仙樂園\n",
      "內洞森林遊樂區\n",
      "烏來瀑布\n",
      "烏來山地民俗文物館\n",
      "國史館\n",
      "圓通寺\n",
      "中和烘爐地\n"
     ]
    }
   ],
   "source": [
    "import requests\n",
    "from bs4 import BeautifulSoup\n",
    "\n",
    "for x in range(1,10):\n",
    "    link = \"https://okgo.tw/butyview.html?id=\"+str(x)\n",
    "    r = requests.get(link) #將網頁資料GET下來\n",
    "    soup = BeautifulSoup(r.text,\"html.parser\") #將網頁資料以html.parser\n",
    "    sel = soup.select(\"div.sec3.word.Resize h2\") #取HTML標中的 <div class=\"title\"></div> 中的<a>標籤存入sel\n",
    "    for s in sel:\n",
    "        print(s.text) "
   ]
  },
  {
   "cell_type": "code",
   "execution_count": null,
   "metadata": {},
   "outputs": [],
   "source": []
  },
  {
   "cell_type": "code",
   "execution_count": null,
   "metadata": {},
   "outputs": [],
   "source": []
  }
 ],
 "metadata": {
  "kernelspec": {
   "display_name": "Python 3",
   "language": "python",
   "name": "python3"
  },
  "language_info": {
   "codemirror_mode": {
    "name": "ipython",
    "version": 3
   },
   "file_extension": ".py",
   "mimetype": "text/x-python",
   "name": "python",
   "nbconvert_exporter": "python",
   "pygments_lexer": "ipython3",
   "version": "3.6.6"
  }
 },
 "nbformat": 4,
 "nbformat_minor": 2
}
