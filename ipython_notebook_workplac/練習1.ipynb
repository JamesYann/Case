{
 "cells": [
  {
   "cell_type": "code",
   "execution_count": 21,
   "metadata": {},
   "outputs": [
    {
     "name": "stdout",
     "output_type": "stream",
     "text": [
      "/bbs/MobileComm/M.1561525373.A.9DF.html [問題] MAX PRO M1 的錄影60FPS ?\n",
      "/bbs/MobileComm/M.1561525490.A.EFB.html [新聞] 三鏡頭手機vivo Y17台灣價格9千有找 7月\n",
      "/bbs/MobileComm/M.1561525858.A.0F3.html [心得] 無框行動 開箱\n",
      "/bbs/MobileComm/M.1561529671.A.2A4.html [問題] 小米mix2s 換 9T 會降級有感嗎\n",
      "/bbs/MobileComm/M.1534272593.A.93B.html [情報] 3G要斷訊了? 3G執照到期相關情報整理\n",
      "/bbs/MobileComm/M.1546253879.A.29E.html [公告] MobileComm 板規 181231\n",
      "/bbs/MobileComm/M.1546248617.A.0B0.html [公告] 板規更新(討噓文、問機文、新聞格式、發推文格式)\n",
      "/bbs/MobileComm/M.1559572393.A.146.html [閒聊] 置底閒聊文\n",
      "/bbs/MobileComm/M.1560337637.A.223.html [閒聊] 各種價位的手機/平板列表(2019/06/12)\n"
     ]
    }
   ],
   "source": [
    "import requests\n",
    "from bs4 import BeautifulSoup\n",
    "\n",
    "r = requests.get(\"https://www.ptt.cc/bbs/MobileComm/index.html\") #將網頁資料GET下來\n",
    "soup = BeautifulSoup(r.text,\"html.parser\") #將網頁資料以html.parser\n",
    "sel = soup.select(\"div.title a\") #取HTML標中的 <div class=\"title\"></div> 中的<a>標籤存入sel\n",
    "for s in sel:\n",
    "    print(s[\"href\"], s.text) "
   ]
  },
  {
   "cell_type": "code",
   "execution_count": null,
   "metadata": {},
   "outputs": [],
   "source": []
  },
  {
   "cell_type": "code",
   "execution_count": null,
   "metadata": {},
   "outputs": [],
   "source": []
  }
 ],
 "metadata": {
  "kernelspec": {
   "display_name": "Python 3",
   "language": "python",
   "name": "python3"
  },
  "language_info": {
   "codemirror_mode": {
    "name": "ipython",
    "version": 3
   },
   "file_extension": ".py",
   "mimetype": "text/x-python",
   "name": "python",
   "nbconvert_exporter": "python",
   "pygments_lexer": "ipython3",
   "version": "3.6.6"
  }
 },
 "nbformat": 4,
 "nbformat_minor": 2
}
